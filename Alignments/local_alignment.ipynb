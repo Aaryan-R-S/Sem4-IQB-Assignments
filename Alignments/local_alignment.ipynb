{
 "cells": [
  {
   "cell_type": "code",
   "execution_count": 16,
   "metadata": {},
   "outputs": [],
   "source": [
    "# --------------------------- [Module Imports] -------------------------\n",
    "import numpy as np"
   ]
  },
  {
   "cell_type": "code",
   "execution_count": 17,
   "metadata": {},
   "outputs": [],
   "source": [
    "# --------------------------- [Scoring Scheme] -------------------------\n",
    "reward_match = 2\n",
    "penalty_mismatch = -1\n",
    "penalty_gap = -1"
   ]
  },
  {
   "cell_type": "code",
   "execution_count": 18,
   "metadata": {},
   "outputs": [],
   "source": [
    "# --------------------------- [Input Sequences] -------------------------\n",
    "seq1 = \"TTGTATC\"\n",
    "seq2 = \"ACCGGTAT\"\n",
    "\n",
    "aligned_seq1 = \"\"\n",
    "aligned_seq2 = \"\""
   ]
  },
  {
   "cell_type": "code",
   "execution_count": 19,
   "metadata": {},
   "outputs": [
    {
     "name": "stdout",
     "output_type": "stream",
     "text": [
      "TTGTATC\n",
      "ACCGGTAT\n"
     ]
    }
   ],
   "source": [
    "print(seq1)\n",
    "print(seq2)"
   ]
  },
  {
   "cell_type": "code",
   "execution_count": 20,
   "metadata": {},
   "outputs": [],
   "source": [
    "\n",
    "# --------------------------- [Matrix Initialization] -------------------------\n",
    "match_matrix = np.zeros((len(seq1), len(seq2)))\n",
    "score_matrix = np.zeros((len(seq1)+1, len(seq2)+1))\n",
    "\n",
    "# For match_matrix\n",
    "for i in range(len(seq1)):\n",
    "    for j in range(len(seq2)):\n",
    "        if(seq1[i]==seq2[j]):\n",
    "            match_matrix[i][j] = reward_match\n",
    "        else:\n",
    "            match_matrix[i][j] = penalty_mismatch\n",
    "            \n",
    "# For score_matrix\n",
    "for i in range(len(seq1)+1):\n",
    "    score_matrix[i][0] = max(0, i*penalty_gap)\n",
    "\n",
    "for j in range(len(seq2)+1):\n",
    "    score_matrix[0][j] = max(0, j*penalty_gap)\n",
    "    "
   ]
  },
  {
   "cell_type": "code",
   "execution_count": 21,
   "metadata": {},
   "outputs": [
    {
     "name": "stdout",
     "output_type": "stream",
     "text": [
      "[[-1. -1. -1. -1. -1.  2. -1.  2.]\n",
      " [-1. -1. -1. -1. -1.  2. -1.  2.]\n",
      " [-1. -1. -1.  2.  2. -1. -1. -1.]\n",
      " [-1. -1. -1. -1. -1.  2. -1.  2.]\n",
      " [ 2. -1. -1. -1. -1. -1.  2. -1.]\n",
      " [-1. -1. -1. -1. -1.  2. -1.  2.]\n",
      " [-1.  2.  2. -1. -1. -1. -1. -1.]]\n",
      "[[0. 0. 0. 0. 0. 0. 0. 0. 0.]\n",
      " [0. 0. 0. 0. 0. 0. 0. 0. 0.]\n",
      " [0. 0. 0. 0. 0. 0. 0. 0. 0.]\n",
      " [0. 0. 0. 0. 0. 0. 0. 0. 0.]\n",
      " [0. 0. 0. 0. 0. 0. 0. 0. 0.]\n",
      " [0. 0. 0. 0. 0. 0. 0. 0. 0.]\n",
      " [0. 0. 0. 0. 0. 0. 0. 0. 0.]\n",
      " [0. 0. 0. 0. 0. 0. 0. 0. 0.]]\n"
     ]
    }
   ],
   "source": [
    "print(match_matrix)\n",
    "print(score_matrix)"
   ]
  },
  {
   "cell_type": "code",
   "execution_count": 22,
   "metadata": {},
   "outputs": [],
   "source": [
    "# --------------------------- [Fill Score Matrix] -------------------------\n",
    "for i in range(1, len(seq1)+1):\n",
    "    for j in range(1, len(seq2)+1):\n",
    "        score_matrix[i][j] = max(\n",
    "            0,\n",
    "            score_matrix[i-1][j-1] + match_matrix[i-1][j-1],\n",
    "            score_matrix[i-1][j] + penalty_gap,\n",
    "            score_matrix[i][j-1] + penalty_gap,\n",
    "        )"
   ]
  },
  {
   "cell_type": "code",
   "execution_count": 23,
   "metadata": {},
   "outputs": [
    {
     "name": "stdout",
     "output_type": "stream",
     "text": [
      "[[0. 0. 0. 0. 0. 0. 0. 0. 0.]\n",
      " [0. 0. 0. 0. 0. 0. 2. 1. 2.]\n",
      " [0. 0. 0. 0. 0. 0. 2. 1. 3.]\n",
      " [0. 0. 0. 0. 2. 2. 1. 1. 2.]\n",
      " [0. 0. 0. 0. 1. 1. 4. 3. 3.]\n",
      " [0. 2. 1. 0. 0. 0. 3. 6. 5.]\n",
      " [0. 1. 1. 0. 0. 0. 2. 5. 8.]\n",
      " [0. 0. 3. 3. 2. 1. 1. 4. 7.]]\n"
     ]
    }
   ],
   "source": [
    "print(score_matrix)"
   ]
  },
  {
   "cell_type": "code",
   "execution_count": 24,
   "metadata": {},
   "outputs": [],
   "source": [
    "# --------------------------- [Find Max ii and jj] -------------------------\n",
    "ii = 0\n",
    "jj = 0\n",
    "\n",
    "score = score_matrix[ii][jj]\n",
    "\n",
    "for i in range(0, len(seq1)+1):\n",
    "    for j in range(0, len(seq2)+1):\n",
    "        if (score_matrix[i][j]>score):\n",
    "           score = score_matrix[i][j]\n",
    "           ii = i\n",
    "           jj = j\n"
   ]
  },
  {
   "cell_type": "code",
   "execution_count": 25,
   "metadata": {},
   "outputs": [
    {
     "name": "stdout",
     "output_type": "stream",
     "text": [
      "6\n",
      "8\n"
     ]
    }
   ],
   "source": [
    "print(ii)\n",
    "print(jj)"
   ]
  },
  {
   "cell_type": "code",
   "execution_count": 26,
   "metadata": {},
   "outputs": [],
   "source": [
    "# --------------------------- [Print Alignment and Score] -------------------------\n",
    "while (score_matrix[ii][jj]>0):\n",
    "    aligned_seq1 = seq1[ii-1] + aligned_seq1\n",
    "    aligned_seq2 = seq2[jj-1] + aligned_seq2\n",
    "    ii -= 1\n",
    "    jj -= 1"
   ]
  },
  {
   "cell_type": "code",
   "execution_count": 27,
   "metadata": {},
   "outputs": [
    {
     "name": "stdout",
     "output_type": "stream",
     "text": [
      "8.0\n",
      "GTAT\n",
      "GTAT\n"
     ]
    }
   ],
   "source": [
    "print(score)\n",
    "print(aligned_seq1)\n",
    "print(aligned_seq2)"
   ]
  }
 ],
 "metadata": {
  "interpreter": {
   "hash": "72b3dbc8b2398a2fd82f987f1ef8dd208c10102d662117e467a3d3c203feea54"
  },
  "kernelspec": {
   "display_name": "Python 3.9.4 64-bit",
   "language": "python",
   "name": "python3"
  },
  "language_info": {
   "codemirror_mode": {
    "name": "ipython",
    "version": 3
   },
   "file_extension": ".py",
   "mimetype": "text/x-python",
   "name": "python",
   "nbconvert_exporter": "python",
   "pygments_lexer": "ipython3",
   "version": "3.8.2"
  },
  "orig_nbformat": 4
 },
 "nbformat": 4,
 "nbformat_minor": 2
}
