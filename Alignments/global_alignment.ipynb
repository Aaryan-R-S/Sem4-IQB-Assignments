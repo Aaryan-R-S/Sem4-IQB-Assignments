{
 "cells": [
  {
   "cell_type": "code",
   "execution_count": 44,
   "metadata": {},
   "outputs": [],
   "source": [
    "# --------------------------- [Module Imports] -------------------------\n",
    "import numpy as np"
   ]
  },
  {
   "cell_type": "code",
   "execution_count": 45,
   "metadata": {},
   "outputs": [],
   "source": [
    "# --------------------------- [Scoring Scheme] -------------------------\n",
    "reward_match = 2\n",
    "penalty_mismatch = -1\n",
    "penalty_gap = -1"
   ]
  },
  {
   "cell_type": "code",
   "execution_count": 46,
   "metadata": {},
   "outputs": [],
   "source": [
    "# --------------------------- [Input Sequences] -------------------------\n",
    "seq1 = \"ACCTATC\"\n",
    "seq2 = \"ACCGGTAT\"\n",
    "\n",
    "aligned_seq1 = \"\"\n",
    "aligned_seq2 = \"\""
   ]
  },
  {
   "cell_type": "code",
   "execution_count": 47,
   "metadata": {},
   "outputs": [
    {
     "name": "stdout",
     "output_type": "stream",
     "text": [
      "ACCTATC\n",
      "ACCGGTAT\n"
     ]
    }
   ],
   "source": [
    "print(seq1)\n",
    "print(seq2)"
   ]
  },
  {
   "cell_type": "code",
   "execution_count": 48,
   "metadata": {},
   "outputs": [],
   "source": [
    "# --------------------------- [Matrix Initialization] -------------------------\n",
    "match_matrix = np.zeros((len(seq1), len(seq2)))\n",
    "score_matrix = np.zeros((len(seq1)+1, len(seq2)+1))\n",
    "\n",
    "# For match_matrix\n",
    "for i in range(len(seq1)):\n",
    "    for j in range(len(seq2)):\n",
    "        if(seq1[i]==seq2[j]):\n",
    "            match_matrix[i][j] = reward_match\n",
    "        else:\n",
    "            match_matrix[i][j] = penalty_mismatch\n",
    "            \n",
    "# For score_matrix\n",
    "for i in range(len(seq1)+1):\n",
    "    score_matrix[i][0] = i*penalty_gap\n",
    "\n",
    "for j in range(len(seq2)+1):\n",
    "    score_matrix[0][j] = j*penalty_gap\n",
    "  "
   ]
  },
  {
   "cell_type": "code",
   "execution_count": 49,
   "metadata": {},
   "outputs": [
    {
     "name": "stdout",
     "output_type": "stream",
     "text": [
      "[[ 2. -1. -1. -1. -1. -1.  2. -1.]\n",
      " [-1.  2.  2. -1. -1. -1. -1. -1.]\n",
      " [-1.  2.  2. -1. -1. -1. -1. -1.]\n",
      " [-1. -1. -1. -1. -1.  2. -1.  2.]\n",
      " [ 2. -1. -1. -1. -1. -1.  2. -1.]\n",
      " [-1. -1. -1. -1. -1.  2. -1.  2.]\n",
      " [-1.  2.  2. -1. -1. -1. -1. -1.]]\n",
      "[[ 0. -1. -2. -3. -4. -5. -6. -7. -8.]\n",
      " [-1.  0.  0.  0.  0.  0.  0.  0.  0.]\n",
      " [-2.  0.  0.  0.  0.  0.  0.  0.  0.]\n",
      " [-3.  0.  0.  0.  0.  0.  0.  0.  0.]\n",
      " [-4.  0.  0.  0.  0.  0.  0.  0.  0.]\n",
      " [-5.  0.  0.  0.  0.  0.  0.  0.  0.]\n",
      " [-6.  0.  0.  0.  0.  0.  0.  0.  0.]\n",
      " [-7.  0.  0.  0.  0.  0.  0.  0.  0.]]\n"
     ]
    }
   ],
   "source": [
    "print(match_matrix)\n",
    "print(score_matrix)"
   ]
  },
  {
   "cell_type": "code",
   "execution_count": 50,
   "metadata": {},
   "outputs": [],
   "source": [
    "# --------------------------- [Fill Score Matrix] -------------------------\n",
    "for i in range(1, len(seq1)+1):\n",
    "    for j in range(1, len(seq2)+1):\n",
    "        score_matrix[i][j] = max(\n",
    "            score_matrix[i-1][j-1] + match_matrix[i-1][j-1],\n",
    "            score_matrix[i-1][j] + penalty_gap,\n",
    "            score_matrix[i][j-1] + penalty_gap\n",
    "        )"
   ]
  },
  {
   "cell_type": "code",
   "execution_count": 51,
   "metadata": {},
   "outputs": [
    {
     "name": "stdout",
     "output_type": "stream",
     "text": [
      "[[ 0. -1. -2. -3. -4. -5. -6. -7. -8.]\n",
      " [-1.  2.  1.  0. -1. -2. -3. -4. -5.]\n",
      " [-2.  1.  4.  3.  2.  1.  0. -1. -2.]\n",
      " [-3.  0.  3.  6.  5.  4.  3.  2.  1.]\n",
      " [-4. -1.  2.  5.  5.  4.  6.  5.  4.]\n",
      " [-5. -2.  1.  4.  4.  4.  5.  8.  7.]\n",
      " [-6. -3.  0.  3.  3.  3.  6.  7. 10.]\n",
      " [-7. -4. -1.  2.  2.  2.  5.  6.  9.]]\n"
     ]
    }
   ],
   "source": [
    "print(score_matrix)"
   ]
  },
  {
   "cell_type": "code",
   "execution_count": 52,
   "metadata": {},
   "outputs": [],
   "source": [
    "# --------------------------- [Print Alignment and Score] -------------------------\n",
    "ii = len(seq1)\n",
    "jj = len(seq2)\n",
    "\n",
    "score = score_matrix[ii][jj]\n",
    "\n",
    "while not (ii==0 and jj==0):\n",
    "    if (ii>0 and jj>0 and score_matrix[ii][jj] == score_matrix[ii-1][jj-1] + match_matrix[ii-1][jj-1]):\n",
    "        aligned_seq1 = seq1[ii-1] + aligned_seq1\n",
    "        aligned_seq2 = seq2[jj-1] + aligned_seq2\n",
    "        ii -= 1\n",
    "        jj -= 1\n",
    "    \n",
    "    elif (ii>0 and score_matrix[ii][jj] == score_matrix[ii-1][jj] + penalty_gap):\n",
    "        aligned_seq1 = seq1[ii-1] + aligned_seq1\n",
    "        aligned_seq2 = \"-\" + aligned_seq2\n",
    "        ii -= 1\n",
    "    \n",
    "    else:\n",
    "        aligned_seq1 = \"-\" + aligned_seq1\n",
    "        aligned_seq2 = seq2[jj-1] + aligned_seq2\n",
    "        jj -= 1\n",
    "        "
   ]
  },
  {
   "cell_type": "code",
   "execution_count": 53,
   "metadata": {},
   "outputs": [
    {
     "name": "stdout",
     "output_type": "stream",
     "text": [
      "9.0\n",
      "ACC--TATC\n",
      "ACCGGTAT-\n"
     ]
    }
   ],
   "source": [
    "print(score)\n",
    "print(aligned_seq1)\n",
    "print(aligned_seq2)"
   ]
  }
 ],
 "metadata": {
  "interpreter": {
   "hash": "72b3dbc8b2398a2fd82f987f1ef8dd208c10102d662117e467a3d3c203feea54"
  },
  "kernelspec": {
   "display_name": "Python 3.9.4 64-bit",
   "language": "python",
   "name": "python3"
  },
  "language_info": {
   "codemirror_mode": {
    "name": "ipython",
    "version": 3
   },
   "file_extension": ".py",
   "mimetype": "text/x-python",
   "name": "python",
   "nbconvert_exporter": "python",
   "pygments_lexer": "ipython3",
   "version": "3.8.2"
  },
  "orig_nbformat": 4
 },
 "nbformat": 4,
 "nbformat_minor": 2
}
