{
 "cells": [
  {
   "cell_type": "code",
   "execution_count": 1,
   "metadata": {},
   "outputs": [],
   "source": [
    "# --------------------------- [Module Imports] -------------------------\n",
    "import numpy as np"
   ]
  },
  {
   "cell_type": "code",
   "execution_count": 2,
   "metadata": {},
   "outputs": [],
   "source": [
    "# --------------------------- [Scoring Scheme] -------------------------\n",
    "reward_match = 4\n",
    "penalty_mismatch = -1\n",
    "penalty_gap = -5"
   ]
  },
  {
   "cell_type": "code",
   "execution_count": 3,
   "metadata": {},
   "outputs": [],
   "source": [
    "# --------------------------- [Input Sequences] -------------------------\n",
    "seq1 = \"VAEGEWGVAA\"\n",
    "seq2 = \"REWVAEA\"\n",
    "\n",
    "aligned_seq1 = \"\"\n",
    "aligned_seq2 = \"\""
   ]
  },
  {
   "cell_type": "code",
   "execution_count": 4,
   "metadata": {},
   "outputs": [
    {
     "name": "stdout",
     "output_type": "stream",
     "text": [
      "VAEGEWGVAA\n",
      "REWVAEA\n"
     ]
    }
   ],
   "source": [
    "print(seq1)\n",
    "print(seq2)"
   ]
  },
  {
   "cell_type": "code",
   "execution_count": 5,
   "metadata": {},
   "outputs": [],
   "source": [
    "\n",
    "# --------------------------- [Matrix Initialization] -------------------------\n",
    "match_matrix = np.zeros((len(seq1), len(seq2)))\n",
    "score_matrix = np.zeros((len(seq1)+1, len(seq2)+1))\n",
    "\n",
    "# For match_matrix\n",
    "for i in range(len(seq1)):\n",
    "    for j in range(len(seq2)):\n",
    "        if(seq1[i]==seq2[j]):\n",
    "            match_matrix[i][j] = reward_match\n",
    "        else:\n",
    "            match_matrix[i][j] = penalty_mismatch\n",
    "            \n",
    "# For score_matrix\n",
    "for i in range(len(seq1)+1):\n",
    "    score_matrix[i][0] = max(0, i*penalty_gap)\n",
    "\n",
    "for j in range(len(seq2)+1):\n",
    "    score_matrix[0][j] = max(0, j*penalty_gap)\n",
    "    "
   ]
  },
  {
   "cell_type": "code",
   "execution_count": 6,
   "metadata": {},
   "outputs": [
    {
     "name": "stdout",
     "output_type": "stream",
     "text": [
      "[[-1. -1. -1.  4. -1. -1. -1.]\n",
      " [-1. -1. -1. -1.  4. -1.  4.]\n",
      " [-1.  4. -1. -1. -1.  4. -1.]\n",
      " [-1. -1. -1. -1. -1. -1. -1.]\n",
      " [-1.  4. -1. -1. -1.  4. -1.]\n",
      " [-1. -1.  4. -1. -1. -1. -1.]\n",
      " [-1. -1. -1. -1. -1. -1. -1.]\n",
      " [-1. -1. -1.  4. -1. -1. -1.]\n",
      " [-1. -1. -1. -1.  4. -1.  4.]\n",
      " [-1. -1. -1. -1.  4. -1.  4.]]\n",
      "[[0. 0. 0. 0. 0. 0. 0. 0.]\n",
      " [0. 0. 0. 0. 0. 0. 0. 0.]\n",
      " [0. 0. 0. 0. 0. 0. 0. 0.]\n",
      " [0. 0. 0. 0. 0. 0. 0. 0.]\n",
      " [0. 0. 0. 0. 0. 0. 0. 0.]\n",
      " [0. 0. 0. 0. 0. 0. 0. 0.]\n",
      " [0. 0. 0. 0. 0. 0. 0. 0.]\n",
      " [0. 0. 0. 0. 0. 0. 0. 0.]\n",
      " [0. 0. 0. 0. 0. 0. 0. 0.]\n",
      " [0. 0. 0. 0. 0. 0. 0. 0.]\n",
      " [0. 0. 0. 0. 0. 0. 0. 0.]]\n"
     ]
    }
   ],
   "source": [
    "print(match_matrix)\n",
    "print(score_matrix)"
   ]
  },
  {
   "cell_type": "code",
   "execution_count": 7,
   "metadata": {},
   "outputs": [],
   "source": [
    "# --------------------------- [Fill Score Matrix] -------------------------\n",
    "for i in range(1, len(seq1)+1):\n",
    "    for j in range(1, len(seq2)+1):\n",
    "        score_matrix[i][j] = max(\n",
    "            score_matrix[i-1][j-1] + match_matrix[i-1][j-1],\n",
    "            score_matrix[i-1][j] + penalty_gap,\n",
    "            score_matrix[i][j-1] + penalty_gap,\n",
    "        )\n",
    "        "
   ]
  },
  {
   "cell_type": "code",
   "execution_count": 8,
   "metadata": {},
   "outputs": [
    {
     "name": "stdout",
     "output_type": "stream",
     "text": [
      "[[ 0.  0.  0.  0.  0.  0.  0.  0.]\n",
      " [ 0. -1. -1. -1.  4. -1. -1. -1.]\n",
      " [ 0. -1. -2. -2. -1.  8.  3.  3.]\n",
      " [ 0. -1.  3. -2. -3.  3. 12.  7.]\n",
      " [ 0. -1. -2.  2. -3. -2.  7. 11.]\n",
      " [ 0. -1.  3. -2.  1. -4.  2.  6.]\n",
      " [ 0. -1. -2.  7.  2.  0. -3.  1.]\n",
      " [ 0. -1. -2.  2.  6.  1. -1. -4.]\n",
      " [ 0. -1. -2. -3.  6.  5.  0. -2.]\n",
      " [ 0. -1. -2. -3.  1. 10.  5.  4.]\n",
      " [ 0. -1. -2. -3. -4.  5.  9.  9.]]\n"
     ]
    }
   ],
   "source": [
    "print(score_matrix)"
   ]
  },
  {
   "cell_type": "code",
   "execution_count": 9,
   "metadata": {},
   "outputs": [],
   "source": [
    "# --------------------------- [Find Max ii and jj] -------------------------\n",
    "ii = 0\n",
    "jj = len(seq2)\n",
    "\n",
    "score = score_matrix[ii][jj]\n",
    "\n",
    "for i in range(0, len(seq1)+1):\n",
    "    if (score_matrix[i][len(seq2)]>score):\n",
    "        score = score_matrix[i][len(seq2)]\n",
    "        ii = i\n",
    "        jj = len(seq2)\n",
    "\n",
    "for j in range(0, len(seq2)+1):\n",
    "    if (score_matrix[len(seq1)][j]>score):\n",
    "        score = score_matrix[len(seq1)][j]\n",
    "        ii = len(seq1)\n",
    "        jj = j"
   ]
  },
  {
   "cell_type": "code",
   "execution_count": 10,
   "metadata": {},
   "outputs": [
    {
     "name": "stdout",
     "output_type": "stream",
     "text": [
      "4\n",
      "7\n"
     ]
    }
   ],
   "source": [
    "print(ii)\n",
    "print(jj)"
   ]
  },
  {
   "cell_type": "code",
   "execution_count": 11,
   "metadata": {},
   "outputs": [],
   "source": [
    "# --------------------------- [Print Alignment and Score] -------------------------\n",
    "temp_i = ii\n",
    "temp_j = jj\n",
    "\n",
    "while not (ii==0 or jj==0):\n",
    "    if (ii>0 and jj>0 and score_matrix[ii][jj] == score_matrix[ii-1][jj-1] + match_matrix[ii-1][jj-1]):\n",
    "        aligned_seq1 = seq1[ii-1] + aligned_seq1\n",
    "        aligned_seq2 = seq2[jj-1] + aligned_seq2\n",
    "        ii -= 1\n",
    "        jj -= 1\n",
    "    \n",
    "    elif (ii>0 and score_matrix[ii][jj] == score_matrix[ii-1][jj] + penalty_gap):\n",
    "        aligned_seq1 = seq1[ii-1] + aligned_seq1\n",
    "        aligned_seq2 = \"-\" + aligned_seq2\n",
    "        ii -= 1\n",
    "    \n",
    "    else:\n",
    "        aligned_seq1 = \"-\" + aligned_seq1\n",
    "        aligned_seq2 = seq2[jj-1] + aligned_seq2\n",
    "        jj -= 1\n",
    "\n",
    "while(ii!=0):\n",
    "    aligned_seq1 =  seq1[ii-1] + aligned_seq1\n",
    "    aligned_seq2 = \"-\" + aligned_seq2 \n",
    "    ii -= 1\n",
    "    \n",
    "while(jj!=0):\n",
    "    aligned_seq1 = \"-\" + aligned_seq1 \n",
    "    aligned_seq2 =  seq2[jj-1] + aligned_seq2    \n",
    "    jj -= 1\n",
    "\n",
    "ii = temp_i\n",
    "jj = temp_j\n",
    "if (jj == len(seq2)):\n",
    "    while (ii!=len(seq1)+1):\n",
    "        aligned_seq1 = aligned_seq1 + seq1[ii-1]\n",
    "        aligned_seq2 = aligned_seq2 + \"-\"\n",
    "        ii += 1\n",
    "else:\n",
    "    while (jj!=len(seq2)+1):\n",
    "        aligned_seq1 = aligned_seq1 + \"-\"\n",
    "        aligned_seq2 = aligned_seq2 + seq2[jj-1]\n",
    "        jj += 1"
   ]
  },
  {
   "cell_type": "code",
   "execution_count": 12,
   "metadata": {},
   "outputs": [
    {
     "name": "stdout",
     "output_type": "stream",
     "text": [
      "11.0\n",
      "---VAEGGEWGVAA\n",
      "REWVAEA-------\n"
     ]
    }
   ],
   "source": [
    "print(score)\n",
    "print(aligned_seq1)\n",
    "print(aligned_seq2)"
   ]
  }
 ],
 "metadata": {
  "interpreter": {
   "hash": "72b3dbc8b2398a2fd82f987f1ef8dd208c10102d662117e467a3d3c203feea54"
  },
  "kernelspec": {
   "display_name": "Python 3.9.4 64-bit",
   "language": "python",
   "name": "python3"
  },
  "language_info": {
   "codemirror_mode": {
    "name": "ipython",
    "version": 3
   },
   "file_extension": ".py",
   "mimetype": "text/x-python",
   "name": "python",
   "nbconvert_exporter": "python",
   "pygments_lexer": "ipython3",
   "version": "3.8.2"
  },
  "orig_nbformat": 4
 },
 "nbformat": 4,
 "nbformat_minor": 2
}
