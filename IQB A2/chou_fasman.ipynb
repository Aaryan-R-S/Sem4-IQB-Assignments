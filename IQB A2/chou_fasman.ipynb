{
 "cells": [
  {
   "cell_type": "code",
   "execution_count": 1,
   "metadata": {},
   "outputs": [
    {
     "name": "stdout",
     "output_type": "stream",
     "text": [
      "SGFRKMAFPSGKVEGCMVQVTCGTTTLNGLWLDDTVYCPRHVICTAEDMLNPNYEDLLIRKSNHSFLVQAGNVQLRVIGHSMQNCLLRLKVDTSNPKTPKYKFVRIQPGQTFSVLACYNGSPSGVYQCAMRPNHTIKGSFLNGSCGSVGF\n"
     ]
    }
   ],
   "source": [
    "# Mapping of Amino acids to their respective alpha-helix propensity values ----------------------------------------\n",
    "p_helix = {\n",
    "  \"E\": 1.53,  \n",
    "  \"A\": 1.45,  \n",
    "  \"L\": 1.34,  \n",
    "  \"H\": 1.24,  \n",
    "  \"M\": 1.20,  \n",
    "  \"Q\": 1.17,  \n",
    "  \"W\": 1.14,  \n",
    "  \"V\": 1.14,  \n",
    "  \"F\": 1.12,  \n",
    "  \"K\": 1.07,  \n",
    "  \"I\": 1.00,  \n",
    "  \"D\": 0.98,  \n",
    "  \"T\": 0.82,  \n",
    "  \"S\": 0.79,  \n",
    "  \"R\": 0.79,  \n",
    "  \"C\": 0.77,  \n",
    "  \"N\": 0.73,  \n",
    "  \"Y\": 0.61,  \n",
    "  \"P\": 0.59,  \n",
    "  \"G\": 0.53  \n",
    "}\n",
    "\n",
    "# Mapping of Amino acids to their respective beta-strand propensity values ----------------------------------------\n",
    "p_strand = {\n",
    "  \"M\": 1.67,  \n",
    "  \"V\": 1.65,  \n",
    "  \"I\": 1.60,  \n",
    "  \"C\": 1.30,  \n",
    "  \"Y\": 1.29,  \n",
    "  \"F\": 1.28,  \n",
    "  \"Q\": 1.23,  \n",
    "  \"L\": 1.22,  \n",
    "  \"T\": 1.20,  \n",
    "  \"W\": 1.19,  \n",
    "  \"A\": 0.97,  \n",
    "  \"R\": 0.90,  \n",
    "  \"G\": 0.81,  \n",
    "  \"D\": 0.80,  \n",
    "  \"K\": 0.74,  \n",
    "  \"S\": 0.72,  \n",
    "  \"H\": 0.71,  \n",
    "  \"N\": 0.65,  \n",
    "  \"P\": 0.62,  \n",
    "  \"E\": 0.26  \n",
    "}\n",
    "\n",
    "# Input Sequence --------------------------------------------------------------------------------------------------\n",
    "# seq = \"WHGCITVYWMTV\"\n",
    "seq = \"SGFRKMAFPSGKVEGCMVQVTCGTTTLNGLWLDDTVYCPRHVICTAEDMLNPNYEDLLIRKSNHSFLVQAGNVQLRVIGHSMQNCLLRLKVDTSNPKTPKYKFVRIQPGQTFSVLACYNGSPSGVYQCAMRPNHTIKGSFLNGSCGSVGF\"\n",
    "print(seq)"
   ]
  },
  {
   "cell_type": "code",
   "execution_count": 2,
   "metadata": {},
   "outputs": [
    {
     "name": "stdout",
     "output_type": "stream",
     "text": [
      "[0, 0.79, 1.32, 2.4400000000000004, 3.2300000000000004, 4.300000000000001, 5.500000000000001, 6.950000000000001, 8.07, 8.66, 9.45, 9.979999999999999, 11.049999999999999, 12.19, 13.719999999999999, 14.249999999999998, 15.019999999999998, 16.22, 17.36, 18.53, 19.67, 20.490000000000002, 21.26, 21.790000000000003, 22.610000000000003, 23.430000000000003, 24.250000000000004, 25.590000000000003, 26.320000000000004, 26.850000000000005, 28.190000000000005, 29.330000000000005, 30.670000000000005, 31.650000000000006, 32.63, 33.45, 34.59, 35.2, 35.970000000000006, 36.56000000000001, 37.35000000000001, 38.59000000000001, 39.73000000000001, 40.73000000000001, 41.500000000000014, 42.320000000000014, 43.77000000000002, 45.30000000000002, 46.280000000000015, 47.48000000000002, 48.82000000000002, 49.55000000000002, 50.14000000000002, 50.87000000000002, 51.48000000000002, 53.01000000000002, 53.990000000000016, 55.33000000000002, 56.67000000000002, 57.67000000000002, 58.46000000000002, 59.53000000000002, 60.32000000000002, 61.05000000000002, 62.29000000000002, 63.08000000000002, 64.20000000000002, 65.54000000000002, 66.68000000000002, 67.85000000000002, 69.30000000000003, 69.83000000000003, 70.56000000000003, 71.70000000000003, 72.87000000000003, 74.21000000000004, 75.00000000000004, 76.14000000000004, 77.14000000000004, 77.67000000000004, 78.91000000000004, 79.70000000000005, 80.90000000000005, 82.07000000000005, 82.80000000000005, 83.57000000000005, 84.91000000000005, 86.25000000000006, 87.04000000000006, 88.38000000000007, 89.45000000000006, 90.59000000000006, 91.57000000000006, 92.39000000000006, 93.18000000000006, 93.91000000000007, 94.50000000000007, 95.57000000000006, 96.39000000000006, 96.98000000000006, 98.05000000000005, 98.66000000000005, 99.73000000000005, 100.85000000000005, 101.99000000000005, 102.78000000000006, 103.78000000000006, 104.95000000000006, 105.54000000000006, 106.07000000000006, 107.24000000000007, 108.06000000000006, 109.18000000000006, 109.97000000000007, 111.11000000000007, 112.45000000000007, 113.90000000000008, 114.67000000000007, 115.28000000000007, 116.01000000000008, 116.54000000000008, 117.33000000000008, 117.92000000000009, 118.7100000000001, 119.2400000000001, 120.3800000000001, 120.9900000000001, 122.1600000000001, 122.93000000000009, 124.3800000000001, 125.5800000000001, 126.3700000000001, 126.96000000000011, 127.69000000000011, 128.93000000000012, 129.7500000000001, 130.7500000000001, 131.8200000000001, 132.3500000000001, 133.1400000000001, 134.2600000000001, 135.6000000000001, 136.3300000000001, 136.8600000000001, 137.6500000000001, 138.4200000000001, 138.9500000000001, 139.7400000000001, 140.88000000000008, 141.41000000000008, 142.5300000000001]\n",
      "[0, 0.72, 1.53, 2.81, 3.71, 4.45, 6.12, 7.09, 8.37, 8.989999999999998, 9.709999999999999, 10.52, 11.26, 12.91, 13.17, 13.98, 15.280000000000001, 16.950000000000003, 18.6, 19.830000000000002, 21.48, 22.68, 23.98, 24.79, 25.99, 27.189999999999998, 28.389999999999997, 29.609999999999996, 30.259999999999994, 31.069999999999993, 32.28999999999999, 33.47999999999999, 34.69999999999999, 35.499999999999986, 36.29999999999998, 37.499999999999986, 39.149999999999984, 40.43999999999998, 41.73999999999998, 42.35999999999998, 43.25999999999998, 43.96999999999998, 45.619999999999976, 47.21999999999998, 48.519999999999975, 49.71999999999998, 50.689999999999976, 50.949999999999974, 51.74999999999997, 53.41999999999997, 54.63999999999997, 55.28999999999997, 55.90999999999997, 56.55999999999997, 57.849999999999966, 58.109999999999964, 58.90999999999996, 60.12999999999996, 61.34999999999996, 62.94999999999996, 63.84999999999996, 64.58999999999996, 65.30999999999996, 65.95999999999997, 66.66999999999996, 67.38999999999996, 68.66999999999996, 69.88999999999996, 71.53999999999996, 72.76999999999997, 73.73999999999997, 74.54999999999997, 75.19999999999997, 76.84999999999998, 78.07999999999998, 79.29999999999998, 80.19999999999999, 81.85, 83.44999999999999, 84.25999999999999, 84.96999999999998, 85.68999999999998, 87.35999999999999, 88.58999999999999, 89.24, 90.53999999999999, 91.75999999999999, 92.97999999999999, 93.88, 95.1, 95.83999999999999, 97.49, 98.28999999999999, 99.49, 100.21, 100.86, 101.48, 102.22, 103.42, 104.04, 104.78, 106.07000000000001, 106.81, 108.09, 109.74000000000001, 110.64000000000001, 112.24000000000001, 113.47000000000001, 114.09000000000002, 114.90000000000002, 116.13000000000002, 117.33000000000003, 118.61000000000003, 119.33000000000003, 120.98000000000003, 122.20000000000003, 123.17000000000003, 124.47000000000003, 125.76000000000003, 126.41000000000004, 127.22000000000004, 127.94000000000004, 128.56000000000003, 129.28000000000003, 130.09000000000003, 131.74000000000004, 133.03000000000003, 134.26000000000002, 135.56000000000003, 136.53000000000003, 138.20000000000002, 139.10000000000002, 139.72000000000003, 140.37000000000003, 141.08000000000004, 142.28000000000003, 143.88000000000002, 144.62000000000003, 145.43000000000004, 146.15000000000003, 147.43000000000004, 148.65000000000003, 149.30000000000004, 150.11000000000004, 150.83000000000004, 152.13000000000005, 152.94000000000005, 153.66000000000005, 155.31000000000006, 156.12000000000006, 157.40000000000006]\n",
      "[0, 0, 0, 1, 1, 2, 3, 4, 5, 5, 5, 5, 6, 7, 8, 8, 8, 9, 10, 11, 12, 12, 12, 12, 12, 12, 12, 13, 13, 13, 14, 15, 16, 16, 16, 16, 17, 17, 17, 17, 17, 18, 19, 20, 20, 20, 21, 22, 22, 23, 24, 24, 24, 24, 24, 25, 25, 26, 27, 28, 28, 29, 29, 29, 30, 30, 31, 32, 33, 34, 35, 35, 35, 36, 37, 38, 38, 39, 40, 40, 41, 41, 42, 43, 43, 43, 44, 45, 45, 46, 47, 48, 48, 48, 48, 48, 48, 49, 49, 49, 50, 50, 51, 52, 53, 53, 54, 55, 55, 55, 56, 56, 57, 57, 58, 59, 60, 60, 60, 60, 60, 60, 60, 60, 60, 61, 61, 62, 62, 63, 64, 64, 64, 64, 65, 65, 66, 67, 67, 67, 68, 69, 69, 69, 69, 69, 69, 69, 70, 70, 71]\n",
      "[0, 0, 0, 1, 1, 1, 2, 2, 3, 3, 3, 3, 3, 4, 4, 4, 5, 6, 7, 8, 9, 10, 11, 11, 12, 13, 14, 15, 15, 15, 16, 17, 18, 18, 18, 19, 20, 21, 22, 22, 22, 22, 23, 24, 25, 26, 26, 26, 26, 27, 28, 28, 28, 28, 29, 29, 29, 30, 31, 32, 32, 32, 32, 32, 32, 32, 33, 34, 35, 36, 36, 36, 36, 37, 38, 39, 39, 40, 41, 41, 41, 41, 42, 43, 43, 44, 45, 46, 46, 47, 47, 48, 48, 49, 49, 49, 49, 49, 50, 50, 50, 51, 51, 52, 53, 53, 54, 55, 55, 55, 56, 57, 58, 58, 59, 60, 60, 61, 62, 62, 62, 62, 62, 62, 62, 63, 64, 65, 66, 66, 67, 67, 67, 67, 67, 68, 69, 69, 69, 69, 70, 71, 71, 71, 71, 72, 72, 72, 73, 73, 74]\n"
     ]
    }
   ],
   "source": [
    "# prefix_sum_p_helix(or strand)[i] stores the sum of first i amino acids' helix (or strand) propensity values appearing in the sequence\n",
    "prefix_sum_p_helix = [0]\n",
    "prefix_sum_p_strand = [0]\n",
    "\n",
    "# num_former_p_helix(or strand)[i] stores the number of amino acids with helix (or strand) propensity values >= 1 from the first i amino acids appearing in the sequence\n",
    "num_former_p_helix = [0]\n",
    "num_former_p_strand = [0]\n",
    "\n",
    "# Set the prefix_sum_p_helix(or strand) and num_former_p_helix(or strand) arrays ----------------------------------\n",
    "for i in range(len(seq)):\n",
    "    prefix_sum_p_helix.append(prefix_sum_p_helix[-1] + p_helix[seq[i]])\n",
    "    prefix_sum_p_strand.append(prefix_sum_p_strand[-1] + p_strand[seq[i]])\n",
    "    num_former_p_helix.append(num_former_p_helix[-1] + (1 if p_helix[seq[i]]>=1 else 0))\n",
    "    num_former_p_strand.append(num_former_p_strand[-1] + (1 if p_strand[seq[i]]>=1 else 0))\n",
    "    \n",
    "print(prefix_sum_p_helix)\n",
    "print(prefix_sum_p_strand)\n",
    "print(num_former_p_helix)\n",
    "print(num_former_p_strand)"
   ]
  },
  {
   "cell_type": "code",
   "execution_count": 3,
   "metadata": {},
   "outputs": [
    {
     "name": "stdout",
     "output_type": "stream",
     "text": [
      "['SGFRKM', 'GFRKMA', 'FRKMAF', 'RKMAFP', 'KMAFPS', 'MAFPSG', 'AFPSGK', 'FPSGKV', 'PSGKVE', 'SGKVEG', 'GKVEGC', 'KVEGCM', 'VEGCMV', 'EGCMVQ', 'GCMVQV', 'CMVQVT', 'MVQVTC', 'VQVTCG', 'QVTCGT', 'VTCGTT', 'TCGTTT', 'CGTTTL', 'GTTTLN', 'TTTLNG', 'TTLNGL', 'TLNGLW', 'LNGLWL', 'NGLWLD', 'GLWLDD', 'LWLDDT', 'WLDDTV', 'LDDTVY', 'DDTVYC', 'DTVYCP', 'TVYCPR', 'VYCPRH', 'YCPRHV', 'CPRHVI', 'PRHVIC', 'RHVICT', 'HVICTA', 'VICTAE', 'ICTAED', 'CTAEDM', 'TAEDML', 'AEDMLN', 'EDMLNP', 'DMLNPN', 'MLNPNY', 'LNPNYE', 'NPNYED', 'PNYEDL', 'NYEDLL', 'YEDLLI', 'EDLLIR', 'DLLIRK', 'LLIRKS', 'LIRKSN', 'IRKSNH', 'RKSNHS', 'KSNHSF', 'SNHSFL', 'NHSFLV', 'HSFLVQ', 'SFLVQA', 'FLVQAG', 'LVQAGN', 'VQAGNV', 'QAGNVQ', 'AGNVQL', 'GNVQLR', 'NVQLRV', 'VQLRVI', 'QLRVIG', 'LRVIGH', 'RVIGHS', 'VIGHSM', 'IGHSMQ', 'GHSMQN', 'HSMQNC', 'SMQNCL', 'MQNCLL', 'QNCLLR', 'NCLLRL', 'CLLRLK', 'LLRLKV', 'LRLKVD', 'RLKVDT', 'LKVDTS', 'KVDTSN', 'VDTSNP', 'DTSNPK', 'TSNPKT', 'SNPKTP', 'NPKTPK', 'PKTPKY', 'KTPKYK', 'TPKYKF', 'PKYKFV', 'KYKFVR', 'YKFVRI', 'KFVRIQ', 'FVRIQP', 'VRIQPG', 'RIQPGQ', 'IQPGQT', 'QPGQTF', 'PGQTFS', 'GQTFSV', 'QTFSVL', 'TFSVLA', 'FSVLAC', 'SVLACY', 'VLACYN', 'LACYNG', 'ACYNGS', 'CYNGSP', 'YNGSPS', 'NGSPSG', 'GSPSGV', 'SPSGVY', 'PSGVYQ', 'SGVYQC', 'GVYQCA', 'VYQCAM', 'YQCAMR', 'QCAMRP', 'CAMRPN', 'AMRPNH', 'MRPNHT', 'RPNHTI', 'PNHTIK', 'NHTIKG', 'HTIKGS', 'TIKGSF', 'IKGSFL', 'KGSFLN', 'GSFLNG', 'SFLNGS', 'FLNGSC', 'LNGSCG', 'NGSCGS', 'GSCGSV', 'SCGSVG', 'CGSVGF']\n",
      "['GFRKMA', 'FRKMAF', 'RKMAFP', 'KMAFPS', 'KVEGCM', 'VEGCMV', 'EGCMVQ', 'GCMVQV', 'CMVQVT', 'MVQVTC', 'LNGLWL', 'HVICTA', 'VICTAE', 'TAEDML', 'AEDMLN', 'YEDLLI', 'EDLLIR', 'DLLIRK', 'LLIRKS', 'NHSFLV', 'HSFLVQ', 'SFLVQA', 'FLVQAG', 'LVQAGN', 'VQAGNV', 'QAGNVQ', 'AGNVQL', 'NVQLRV', 'VQLRVI', 'QLRVIG', 'LRVIGH', 'VIGHSM', 'IGHSMQ', 'MQNCLL', 'CLLRLK', 'LLRLKV', 'LRLKVD', 'PKYKFV', 'KYKFVR', 'YKFVRI', 'KFVRIQ', 'FVRIQP', 'QTFSVL', 'TFSVLA', 'FSVLAC', 'VYQCAM', 'IKGSFL']\n",
      "[' ', 'H', 'H', 'H', 'H', 'H', 'H', 'H', 'H', 'H', 'H', 'H', 'H', 'H', 'H', 'H', 'H', 'H', 'H', 'H', 'H', 'H', ' ', ' ', ' ', ' ', 'H', 'H', 'H', 'H', 'H', 'H', 'H', 'H', 'H', ' ', ' ', ' ', ' ', 'H', 'H', 'H', 'H', 'H', 'H', 'H', 'H', 'H', 'H', 'H', 'H', ' ', ' ', 'H', 'H', 'H', 'H', 'H', 'H', 'H', 'H', 'H', 'H', 'H', 'H', 'H', 'H', 'H', 'H', 'H', 'H', 'H', 'H', 'H', 'H', 'H', 'H', 'H', 'H', 'H', 'H', 'H', 'H', 'H', 'H', 'H', 'H', 'H', 'H', 'H', 'H', 'H', 'H', ' ', ' ', ' ', ' ', ' ', 'H', 'H', 'H', 'H', 'H', 'H', 'H', 'H', 'H', 'H', ' ', 'H', 'H', 'H', 'H', 'H', 'H', 'H', 'H', 'H', ' ', ' ', ' ', ' ', ' ', ' ', 'H', 'H', 'H', 'H', 'H', 'H', 'H', 'H', ' ', ' ', ' ', 'H', 'H', 'H', 'H', 'H', 'H', ' ', ' ', ' ', ' ', ' ', ' ', ' ', ' ', ' ']\n"
     ]
    }
   ],
   "source": [
    "# Predicting helices ----------------------------------------------------------------------------------------------\n",
    "possibilities_helix = []        # To store all possible nucleation sites\n",
    "nucleation_sites_helix = []     # To store all nucleation sites\n",
    "\n",
    "# For assignment of the secondary structures (helices)\n",
    "is_helix = []\n",
    "for i in range(len(seq)):\n",
    "    is_helix.append(\" \")\n",
    "\n",
    "# Look for each window of size 6 and check if it has atleast 4 residues with P(H)>= 1 then its a nucleation site\n",
    "# Then expand window to left and then to right until average P(H)<1 in each case\n",
    "for i in range(len(seq)-6+1):\n",
    "    num_former_helix = num_former_p_helix[i+6]-num_former_p_helix[i]\n",
    "    pos = \"\"\n",
    "    for j in range(i, i+6):\n",
    "        pos += seq[j]\n",
    "    possibilities_helix.append(pos)\n",
    "    if num_former_helix >= 4:\n",
    "        # Assign current window residues the secondary structures\n",
    "        for j in range(i, i+6):\n",
    "            is_helix[j] = \"H\"\n",
    "        nucleation_sites_helix.append(pos) \n",
    "        # Extend to left and assign the secondary structures\n",
    "        k = i-1\n",
    "        while k>=0:\n",
    "            sum_former_helix = prefix_sum_p_helix[k+4] - prefix_sum_p_helix[k]\n",
    "            if sum_former_helix<4:\n",
    "                break\n",
    "            else:\n",
    "                is_helix[k] = \"H\"\n",
    "            k-=1\n",
    "        # Extend to right and assign the secondary structures\n",
    "        k = i+6\n",
    "        while k<len(seq):\n",
    "            sum_former_helix = prefix_sum_p_helix[k+1] - prefix_sum_p_helix[k-3]\n",
    "            if sum_former_helix<4:\n",
    "                break\n",
    "            else:\n",
    "                is_helix[k] = \"H\"\n",
    "            k+=1\n",
    "        \n",
    "print(possibilities_helix)\n",
    "print(nucleation_sites_helix)\n",
    "print(is_helix)"
   ]
  },
  {
   "cell_type": "code",
   "execution_count": 4,
   "metadata": {},
   "outputs": [
    {
     "name": "stdout",
     "output_type": "stream",
     "text": [
      "['SGFRK', 'GFRKM', 'FRKMA', 'RKMAF', 'KMAFP', 'MAFPS', 'AFPSG', 'FPSGK', 'PSGKV', 'SGKVE', 'GKVEG', 'KVEGC', 'VEGCM', 'EGCMV', 'GCMVQ', 'CMVQV', 'MVQVT', 'VQVTC', 'QVTCG', 'VTCGT', 'TCGTT', 'CGTTT', 'GTTTL', 'TTTLN', 'TTLNG', 'TLNGL', 'LNGLW', 'NGLWL', 'GLWLD', 'LWLDD', 'WLDDT', 'LDDTV', 'DDTVY', 'DTVYC', 'TVYCP', 'VYCPR', 'YCPRH', 'CPRHV', 'PRHVI', 'RHVIC', 'HVICT', 'VICTA', 'ICTAE', 'CTAED', 'TAEDM', 'AEDML', 'EDMLN', 'DMLNP', 'MLNPN', 'LNPNY', 'NPNYE', 'PNYED', 'NYEDL', 'YEDLL', 'EDLLI', 'DLLIR', 'LLIRK', 'LIRKS', 'IRKSN', 'RKSNH', 'KSNHS', 'SNHSF', 'NHSFL', 'HSFLV', 'SFLVQ', 'FLVQA', 'LVQAG', 'VQAGN', 'QAGNV', 'AGNVQ', 'GNVQL', 'NVQLR', 'VQLRV', 'QLRVI', 'LRVIG', 'RVIGH', 'VIGHS', 'IGHSM', 'GHSMQ', 'HSMQN', 'SMQNC', 'MQNCL', 'QNCLL', 'NCLLR', 'CLLRL', 'LLRLK', 'LRLKV', 'RLKVD', 'LKVDT', 'KVDTS', 'VDTSN', 'DTSNP', 'TSNPK', 'SNPKT', 'NPKTP', 'PKTPK', 'KTPKY', 'TPKYK', 'PKYKF', 'KYKFV', 'YKFVR', 'KFVRI', 'FVRIQ', 'VRIQP', 'RIQPG', 'IQPGQ', 'QPGQT', 'PGQTF', 'GQTFS', 'QTFSV', 'TFSVL', 'FSVLA', 'SVLAC', 'VLACY', 'LACYN', 'ACYNG', 'CYNGS', 'YNGSP', 'NGSPS', 'GSPSG', 'SPSGV', 'PSGVY', 'SGVYQ', 'GVYQC', 'VYQCA', 'YQCAM', 'QCAMR', 'CAMRP', 'AMRPN', 'MRPNH', 'RPNHT', 'PNHTI', 'NHTIK', 'HTIKG', 'TIKGS', 'IKGSF', 'KGSFL', 'GSFLN', 'SFLNG', 'FLNGS', 'LNGSC', 'NGSCG', 'GSCGS', 'SCGSV', 'CGSVG', 'GSVGF']\n",
      "['VEGCM', 'EGCMV', 'GCMVQ', 'CMVQV', 'MVQVT', 'VQVTC', 'QVTCG', 'VTCGT', 'TCGTT', 'CGTTT', 'GTTTL', 'TTTLN', 'TTLNG', 'TLNGL', 'LNGLW', 'NGLWL', 'GLWLD', 'LWLDD', 'WLDDT', 'LDDTV', 'DDTVY', 'DTVYC', 'TVYCP', 'VYCPR', 'RHVIC', 'HVICT', 'VICTA', 'ICTAE', 'YEDLL', 'EDLLI', 'DLLIR', 'LLIRK', 'HSFLV', 'SFLVQ', 'FLVQA', 'LVQAG', 'GNVQL', 'NVQLR', 'VQLRV', 'QLRVI', 'LRVIG', 'SMQNC', 'MQNCL', 'QNCLL', 'NCLLR', 'CLLRL', 'LLRLK', 'LRLKV', 'LKVDT', 'KYKFV', 'YKFVR', 'KFVRI', 'FVRIQ', 'VRIQP', 'IQPGQ', 'QPGQT', 'PGQTF', 'GQTFS', 'QTFSV', 'TFSVL', 'FSVLA', 'SVLAC', 'VLACY', 'LACYN', 'SGVYQ', 'GVYQC', 'VYQCA', 'YQCAM', 'QCAMR']\n",
      "[' ', ' ', ' ', ' ', ' ', ' ', ' ', ' ', ' ', ' ', ' ', ' ', 'S', 'S', 'S', 'S', 'S', 'S', 'S', 'S', 'S', 'S', 'S', 'S', 'S', 'S', 'S', 'S', 'S', 'S', 'S', 'S', 'S', 'S', 'S', 'S', 'S', 'S', 'S', 'S', 'S', 'S', 'S', 'S', 'S', 'S', 'S', ' ', ' ', ' ', ' ', ' ', ' ', 'S', 'S', 'S', 'S', 'S', 'S', 'S', 'S', ' ', ' ', 'S', 'S', 'S', 'S', 'S', 'S', 'S', 'S', 'S', 'S', 'S', 'S', 'S', 'S', 'S', 'S', 'S', 'S', 'S', 'S', 'S', 'S', 'S', 'S', 'S', 'S', 'S', 'S', 'S', 'S', 'S', ' ', ' ', ' ', ' ', ' ', 'S', 'S', 'S', 'S', 'S', 'S', 'S', 'S', 'S', 'S', 'S', 'S', 'S', 'S', 'S', 'S', 'S', 'S', 'S', 'S', 'S', ' ', ' ', 'S', 'S', 'S', 'S', 'S', 'S', 'S', 'S', 'S', 'S', ' ', ' ', ' ', ' ', ' ', ' ', ' ', ' ', ' ', ' ', ' ', ' ', ' ', ' ', ' ', ' ', ' ', ' ']\n"
     ]
    }
   ],
   "source": [
    "# Predicting strands ---------------------------------------------------------------------------------------------\n",
    "possibilities_strand = []        # To store all possible nucleation sites\n",
    "nucleation_sites_strand = []     # To store all nucleation sites\n",
    "\n",
    "# For assignment of the secondary structure (strands)\n",
    "is_strand = []\n",
    "for i in range(len(seq)):\n",
    "    is_strand.append(\" \")\n",
    "\n",
    "# Look for each window of size 5 and check if it has atleast 3 residues with P(S)>= 1 then its a nucleation site\n",
    "# Then expand window to left and then to right until average P(S)<1 in each case\n",
    "for i in range(len(seq)-5+1):\n",
    "    num_former_strand = num_former_p_strand[i+5]-num_former_p_strand[i]\n",
    "    pos = \"\"\n",
    "    for j in range(i, i+5):\n",
    "        pos += seq[j]\n",
    "    possibilities_strand.append(pos)\n",
    "    if num_former_strand >= 3:\n",
    "        # Assign current window residues the secondary structures\n",
    "        for j in range(i, i+5):\n",
    "            is_strand[j] = \"S\"\n",
    "        nucleation_sites_strand.append(pos) \n",
    "        # Extend to left and assign the secondary structures\n",
    "        k = i-1\n",
    "        while k>=0:\n",
    "            sum_former_strand = prefix_sum_p_strand[k+4] - prefix_sum_p_strand[k]\n",
    "            if sum_former_strand<4:\n",
    "                break\n",
    "            else:\n",
    "                is_strand[k] = \"S\"\n",
    "            k-=1\n",
    "        # Extend to right and assign the secondary structures\n",
    "        k = i+5\n",
    "        while k<len(seq):\n",
    "            sum_former_strand = prefix_sum_p_strand[k+1] - prefix_sum_p_strand[k-3]\n",
    "            if sum_former_strand<4:\n",
    "                break\n",
    "            else:\n",
    "                is_strand[k] = \"S\"\n",
    "            k+=1\n",
    "        \n",
    "print(possibilities_strand)\n",
    "print(nucleation_sites_strand)\n",
    "print(is_strand)"
   ]
  },
  {
   "cell_type": "code",
   "execution_count": 5,
   "metadata": {},
   "outputs": [],
   "source": [
    "# Resolve conflicts and assign final secondary structures --------------------------------------------------------\n",
    "final_ss = []       # For assignment of the final secondary structure\n",
    "i = 0\n",
    "\n",
    "while i < len(seq):\n",
    "    # Keep blank if not assigned any structure\n",
    "    if is_helix[i] == \" \" and is_strand[i] == \" \":\n",
    "        final_ss.append(\" \")\n",
    "        \n",
    "    # Assign strand if not assigned helix but assigned a strand\n",
    "    elif is_helix[i] == \" \":\n",
    "        final_ss.append(\"S\")\n",
    "        \n",
    "    # Assign helix if not assigned strand but assigned a helix\n",
    "    elif is_strand[i] == \" \":\n",
    "        final_ss.append(\"H\")\n",
    "        \n",
    "    # If assigned both helix and strand then resolve conflict by checking which is greater P(S) or P(H) for the conflicting part of the sequence\n",
    "    # If P(S)<P(H) assign every amino acid of that part with helices\n",
    "    # Otherwise assign every amino acid of that part a strand secondary structure\n",
    "    else:\n",
    "        k = i+1\n",
    "        while k<len(seq) and is_helix[k] == \"H\" and is_strand[k] == \"S\":\n",
    "            k+=1\n",
    "        p_sum_helix = prefix_sum_p_helix[k] - prefix_sum_p_helix[i]\n",
    "        p_sum_strand = prefix_sum_p_strand[k] - prefix_sum_p_strand[i]\n",
    "        to_set = \" \"\n",
    "        if p_sum_helix > p_sum_strand :\n",
    "            to_set = \"H\"\n",
    "        else:\n",
    "            to_set = \"S\"\n",
    "        for j in range(k-i):\n",
    "            final_ss.append(to_set)\n",
    "        i = k-1\n",
    "    i+=1\n",
    "\n",
    "# for i in range(len(seq)):\n",
    "#     print(seq[i]+\" \"+final_ss[i])"
   ]
  },
  {
   "cell_type": "code",
   "execution_count": 6,
   "metadata": {},
   "outputs": [
    {
     "name": "stdout",
     "output_type": "stream",
     "text": [
      "SGFRKMAFPSGKVEGCMVQVTCGTTTLNGLWLDDTVYCPRHVICTAEDMLNPNYEDLLIRKSNHSFLVQAGNVQLRVIGHSMQNCLLRLKVDTSNPKTPKYKFVRIQPGQTFSVLACYNGSPSGVYQCAMRPNHTIKGSFLNGSCGSVGF\n",
      " HHHHHHHHHHHHHHHHHHHHH    HHHHHHHHH    HHHHHHHHHHHH  HHHHHHHHHHHHHHHHHHHHHHHHHHHHHHHHHHHHHHHH     HHHHHHHHHH HHHHHHHHH      HHHHHHHH   HHHHHH         \n",
      "            SSSSSSSSSSSSSSSSSSSSSSSSSSSSSSSSSSS      SSSSSSSS  SSSSSSSSSSSSSSSSSSSSSSSSSSSSSSS     SSSSSSSSSSSSSSSSSSSSS  SSSSSSSSSS                  \n",
      " HHHHHHHHHHHSSSSSSSSSSSSSSHHHHHHHHHSSSSHHHHHHHHHHHH  HHHHHHHHHHSSSSSSSSSSSSSSSSSSSSSSSSSSSSSSS    HSSSSSSSSSSSSSSSSSSSSS  SSSSSSSSSS   HHHHHH         \n"
     ]
    }
   ],
   "source": [
    "print(seq)\n",
    "print(\"\".join(is_helix))\n",
    "print(\"\".join(is_strand))\n",
    "print(\"\".join(final_ss))"
   ]
  }
 ],
 "metadata": {
  "interpreter": {
   "hash": "72b3dbc8b2398a2fd82f987f1ef8dd208c10102d662117e467a3d3c203feea54"
  },
  "kernelspec": {
   "display_name": "Python 3.9.4 64-bit",
   "language": "python",
   "name": "python3"
  },
  "language_info": {
   "codemirror_mode": {
    "name": "ipython",
    "version": 3
   },
   "file_extension": ".py",
   "mimetype": "text/x-python",
   "name": "python",
   "nbconvert_exporter": "python",
   "pygments_lexer": "ipython3",
   "version": "3.9.4"
  },
  "orig_nbformat": 4
 },
 "nbformat": 4,
 "nbformat_minor": 2
}
