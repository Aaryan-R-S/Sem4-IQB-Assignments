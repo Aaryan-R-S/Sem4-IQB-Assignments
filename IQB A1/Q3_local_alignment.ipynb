{
 "cells": [
  {
   "cell_type": "code",
   "execution_count": 11,
   "metadata": {},
   "outputs": [],
   "source": [
    "# --------------------------- [Module Imports] -------------------------\n",
    "import numpy as np"
   ]
  },
  {
   "cell_type": "code",
   "execution_count": 12,
   "metadata": {},
   "outputs": [],
   "source": [
    "# --------------------------- [Scoring Scheme] -------------------------\n",
    "reward_match = 2\n",
    "penalty_mismatch = -1\n",
    "penalty_gap = -2"
   ]
  },
  {
   "cell_type": "code",
   "execution_count": 13,
   "metadata": {},
   "outputs": [],
   "source": [
    "# --------------------------- [Input Sequences] -------------------------\n",
    "seq1 = \"ATCAGAGTA\"\n",
    "seq2 = \"TTCAGTA\""
   ]
  },
  {
   "cell_type": "code",
   "execution_count": 14,
   "metadata": {},
   "outputs": [
    {
     "name": "stdout",
     "output_type": "stream",
     "text": [
      "ATCAGAGTA\n",
      "TTCAGTA\n"
     ]
    }
   ],
   "source": [
    "print(seq1)\n",
    "print(seq2)"
   ]
  },
  {
   "cell_type": "code",
   "execution_count": 15,
   "metadata": {},
   "outputs": [],
   "source": [
    "# --------------------------- [Matrix Initialization] -------------------------\n",
    "match_matrix = np.zeros((len(seq1), len(seq2)))\n",
    "substitution_matrix = np.zeros((len(seq1)+1, len(seq2)+1))\n",
    "\n",
    "# Initializing match_matrix - A 2D matrix to store scores in case of match/mismatch of different pairs of characters each from one of the sequence provided\n",
    "for i in range(len(seq1)):\n",
    "    for j in range(len(seq2)):\n",
    "        if(seq1[i]==seq2[j]):\n",
    "            match_matrix[i][j] = reward_match\n",
    "        else:\n",
    "            match_matrix[i][j] = penalty_mismatch\n",
    "            \n",
    "# Initializing substitution_matrix - A bidimensional array to store the scores of the best local alignment where substitution_matrix[i][j] = score for optimal local alignment considering only first i characters of sequence 1 and first j characters of sequence 2\n",
    "for i in range(len(seq1)+1):\n",
    "    substitution_matrix[i][0] = max(0, i*penalty_gap)\n",
    "\n",
    "for j in range(len(seq2)+1):\n",
    "    substitution_matrix[0][j] = max(0, j*penalty_gap)"
   ]
  },
  {
   "cell_type": "code",
   "execution_count": 16,
   "metadata": {},
   "outputs": [],
   "source": [
    "# --------------------------- [Fill Substitution Matrix] -------------------------\n",
    "for i in range(1, len(seq1)+1):\n",
    "    for j in range(1, len(seq2)+1):\n",
    "        # Main Algortithm for filling Substitution Matrix in case of Local Alignment\n",
    "        substitution_matrix[i][j] = max(\n",
    "            0,\n",
    "            substitution_matrix[i-1][j-1] + match_matrix[i-1][j-1],\n",
    "            substitution_matrix[i-1][j] + penalty_gap,\n",
    "            substitution_matrix[i][j-1] + penalty_gap,\n",
    "        )\n"
   ]
  },
  {
   "cell_type": "code",
   "execution_count": 17,
   "metadata": {},
   "outputs": [
    {
     "name": "stdout",
     "output_type": "stream",
     "text": [
      "\n",
      "--------------------------------------------------------------------------------------------------------------------\n",
      "                                         Substitution Matrix\n",
      "--------------------------------------------------------------------------------------------------------------------\n",
      "                    A       T       C       A       G       A       G       T       A   \n",
      "          0.0     0.0     0.0     0.0     0.0     0.0     0.0     0.0     0.0     0.0   \n",
      "    T     0.0     0.0     2.0     0.0     0.0     0.0     0.0     0.0     2.0     0.0   \n",
      "    T     0.0     0.0     2.0     1.0     0.0     0.0     0.0     0.0     2.0     1.0   \n",
      "    C     0.0     0.0     0.0     4.0     2.0     0.0     0.0     0.0     0.0     1.0   \n",
      "    A     0.0     2.0     0.0     2.0     6.0     4.0     2.0     0.0     0.0     2.0   \n",
      "    G     0.0     0.0     1.0     0.0     4.0     8.0     6.0     4.0     2.0     0.0   \n",
      "    T     0.0     0.0     2.0     0.0     2.0     6.0     7.0     5.0     6.0     4.0   \n",
      "    A     0.0     2.0     0.0     1.0     2.0     4.0     8.0     6.0     4.0     8.0   \n"
     ]
    }
   ],
   "source": [
    "# --------------------------- [Print Substitution Matrix] -------------------------\n",
    "print()\n",
    "print(\"--------------------------------------------------------------------------------------------------------------------\")\n",
    "print('{0:>60}'.format(\"Substitution Matrix\"))\n",
    "print(\"--------------------------------------------------------------------------------------------------------------------\")\n",
    "for i in range(0, len(seq1)+1):\n",
    "    if(i==0):\n",
    "        print(end=\"                \")\n",
    "    else:\n",
    "        print('{0: >5}'.format(seq1[i-1]), end=\"   \")\n",
    "print()\n",
    "\n",
    "for j in range(0, len(seq2)+1):\n",
    "    if(j==0):\n",
    "        print(end=\"        \")\n",
    "    else:\n",
    "        print('{0: >5}'.format(seq2[j-1]), end=\"   \")\n",
    "    for i in range(0, len(seq1)+1):\n",
    "        print('{0: >5}'.format(substitution_matrix[i][j]), end=\"   \")\n",
    "    print()\n",
    "        "
   ]
  },
  {
   "cell_type": "code",
   "execution_count": 18,
   "metadata": {},
   "outputs": [],
   "source": [
    "# --------------------------- [Find Max Score] -------------------------\n",
    "score = 0\n",
    "for i in range(0, len(seq1)+1):\n",
    "    for j in range(0, len(seq2)+1):\n",
    "        if (substitution_matrix[i][j]>score):\n",
    "           score = substitution_matrix[i][j]\n",
    "           "
   ]
  },
  {
   "cell_type": "code",
   "execution_count": 19,
   "metadata": {},
   "outputs": [],
   "source": [
    "# --------------------------- [Construct Optimal Alignments by Retracing] -------------------------\n",
    "def get_optimal_alignments(ii, jj, aligned_seq1, aligned_seq2, score):\n",
    "    # Base Case\n",
    "    if(substitution_matrix[ii][jj]==0):\n",
    "        return [[aligned_seq1, aligned_seq2, score]]\n",
    "    \n",
    "    match_mismatch_alignments = []\n",
    "    char_gap_alignments = []\n",
    "    gap_char_alignments = []\n",
    "    \n",
    "    # Case 1: Aligned (ii-1)th character of seq1 with (jj-1)th character of seq2\n",
    "    if (ii>0 and jj>0 and substitution_matrix[ii][jj] == substitution_matrix[ii-1][jj-1] + match_matrix[ii-1][jj-1]):\n",
    "        match_mismatch_alignments = get_optimal_alignments(ii-1, jj-1, seq1[ii-1]+aligned_seq1, seq2[jj-1]+aligned_seq2, score+match_matrix[ii-1][jj-1])\n",
    "\n",
    "    # Case 2: Aligned (ii-1)th character of seq1 with a Gap\n",
    "    if (ii>0 and substitution_matrix[ii][jj] == substitution_matrix[ii-1][jj] + penalty_gap):\n",
    "        char_gap_alignments = get_optimal_alignments(ii-1, jj, seq1[ii-1]+aligned_seq1, \"-\"+aligned_seq2, score+penalty_gap)\n",
    "  \n",
    "    # Case 3: Aligned a Gap with (jj-1)th character of seq2\n",
    "    if (jj>0 and substitution_matrix[ii][jj] == substitution_matrix[ii][jj-1] + penalty_gap):\n",
    "        gap_char_alignments = get_optimal_alignments(ii, jj-1, \"-\"+aligned_seq1, seq1[jj-1]+aligned_seq2, score+penalty_gap)\n",
    "    \n",
    "    return match_mismatch_alignments+char_gap_alignments+gap_char_alignments\n",
    "\n"
   ]
  },
  {
   "cell_type": "code",
   "execution_count": 20,
   "metadata": {},
   "outputs": [
    {
     "name": "stdout",
     "output_type": "stream",
     "text": [
      "\n",
      "--------------------------------------------------------------------------------------------------------------------\n",
      "                                     Optimal Alignments with Scores\n",
      "--------------------------------------------------------------------------------------------------------------------\n",
      "\n",
      "TCAG\n",
      "||||\n",
      "TCAG\n",
      "-----------\n",
      "Score: 8.0\n",
      "-----------\n",
      "\n",
      "TCAG-A\n",
      "|||| |\n",
      "TCAGAA\n",
      "-----------\n",
      "Score: 8.0\n",
      "-----------\n",
      "\n",
      "AGTA\n",
      "||||\n",
      "AGTA\n",
      "-----------\n",
      "Score: 8.0\n",
      "-----------\n",
      "\n",
      "TCAGAGTA\n",
      "|||  |||\n",
      "TCA--GTA\n",
      "-----------\n",
      "Score: 8.0\n",
      "-----------\n",
      "\n",
      "TCAGAGTA\n",
      "||||  ||\n",
      "TCAG--TA\n",
      "-----------\n",
      "Score: 8.0\n",
      "-----------\n",
      "\n",
      "------------------------------------------------ END OF PROGRAM ------------------------------------------------------\n",
      "\n"
     ]
    }
   ],
   "source": [
    "# --------------------------- [Print Optimal Alignments and Scores] -------------------------\n",
    "print()\n",
    "print(\"--------------------------------------------------------------------------------------------------------------------\")\n",
    "print('{0:>67}'.format(\"Optimal Alignments with Scores\"))\n",
    "print(\"--------------------------------------------------------------------------------------------------------------------\")\n",
    "\n",
    "optimal_alignments_list = []\n",
    "\n",
    "for i in range(0, len(seq1)+1):\n",
    "    for j in range(0, len(seq2)+1):\n",
    "        if (substitution_matrix[i][j]==score):\n",
    "            optimal_alignments_list = optimal_alignments_list + get_optimal_alignments(i, j, \"\", \"\", 0)\n",
    "\n",
    "for i in range(len(optimal_alignments_list)):\n",
    "    print()\n",
    "    print(optimal_alignments_list[i][0])\n",
    "    for k in range(len(optimal_alignments_list[i][0])):\n",
    "        if(optimal_alignments_list[i][0][k]==optimal_alignments_list[i][1][k]):\n",
    "            print(\"|\", end=\"\")\n",
    "        else:\n",
    "            print(\" \", end=\"\")\n",
    "    print()\n",
    "    print(optimal_alignments_list[i][1])\n",
    "    print(\"-----------\")\n",
    "    print(\"Score: \" + str(optimal_alignments_list[i][2]))\n",
    "    print(\"-----------\")\n",
    "\n",
    "print()\n",
    "print(\"------------------------------------------------ END OF PROGRAM ------------------------------------------------------\")\n",
    "print()"
   ]
  }
 ],
 "metadata": {
  "interpreter": {
   "hash": "72b3dbc8b2398a2fd82f987f1ef8dd208c10102d662117e467a3d3c203feea54"
  },
  "kernelspec": {
   "display_name": "Python 3.9.4 64-bit",
   "language": "python",
   "name": "python3"
  },
  "language_info": {
   "codemirror_mode": {
    "name": "ipython",
    "version": 3
   },
   "file_extension": ".py",
   "mimetype": "text/x-python",
   "name": "python",
   "nbconvert_exporter": "python",
   "pygments_lexer": "ipython3",
   "version": "3.8.2"
  },
  "orig_nbformat": 4
 },
 "nbformat": 4,
 "nbformat_minor": 2
}
